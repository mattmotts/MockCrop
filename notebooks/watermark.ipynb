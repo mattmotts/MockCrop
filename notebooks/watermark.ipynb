{
 "cells": [
  {
   "cell_type": "markdown",
   "metadata": {},
   "source": [
    "Here is a Python script that will walk through a directory and its subdirectories, find images with filenames containing \"12x18\" or \"24x36\", apply a watermark to the center of each image, and save the modified images with the naming scheme you specified:"
   ]
  },
  {
   "cell_type": "code",
   "execution_count": null,
   "metadata": {},
   "outputs": [],
   "source": [
    "import os\n",
    "from PIL import Image, ImageDraw\n",
    "\n",
    "def add_frame_outline(input_image_path, output_image_path, outline_color, outline_width=10):\n",
    "    original_image = Image.open(input_image_path).convert(\"RGBA\")\n",
    "    width, height = original_image.size\n",
    "\n",
    "    # Create an image for the outline\n",
    "    outline_image = Image.new(\"RGBA\", (width, height), (0, 0, 0, 0))\n",
    "    draw = ImageDraw.Draw(outline_image)\n",
    "\n",
    "    # Draw the outline rectangle\n",
    "    draw.rectangle(\n",
    "        [(outline_width // 2, outline_width // 2), (width - outline_width // 2, height - outline_width // 2)],\n",
    "        outline=outline_color,\n",
    "        width=outline_width\n",
    "    )\n",
    "\n",
    "    # Combine the original image with the outline\n",
    "    combined_image = Image.alpha_composite(original_image, outline_image)\n",
    "    combined_image = combined_image.convert(\"RGB\")  # Remove alpha for saving in jpg format\n",
    "\n",
    "    combined_image.save(output_image_path)\n",
    "\n",
    "def process_images(directory):\n",
    "    for root, _, files in os.walk(directory):\n",
    "        for file in files:\n",
    "            if \"12x18\" in file:\n",
    "                outline_color = (255, 0, 0, 255)  # Red\n",
    "                file_path = os.path.join(root, file)\n",
    "                base, ext = os.path.splitext(file)\n",
    "                new_filename = f\"{base}WM{ext}\"\n",
    "                output_path = os.path.join(root, new_filename)\n",
    "                add_frame_outline(file_path, output_path, outline_color)\n",
    "            elif \"24x36\" in file:\n",
    "                outline_color = (0, 255, 0, 255)  # Green\n",
    "                file_path = os.path.join(root, file)\n",
    "                base, ext = os.path.splitext(file)\n",
    "                new_filename = f\"{base}WM{ext}\"\n",
    "                output_path = os.path.join(root, new_filename)\n",
    "                add_frame_outline(file_path, output_path, outline_color)\n",
    "\n",
    "# Example usage\n",
    "directory = r'/Users/Matt/Pictures/MidJourney/Digital Products/Brushed by the Breeze/Images/revamp'\n",
    "process_images(directory)\n"
   ]
  },
  {
   "cell_type": "markdown",
   "metadata": {},
   "source": [
    "deletes the WM"
   ]
  },
  {
   "cell_type": "code",
   "execution_count": null,
   "metadata": {},
   "outputs": [],
   "source": [
    "import os\n",
    "\n",
    "def delete_watermarked_images(directory):\n",
    "    for root, _, files in os.walk(directory):\n",
    "        for file in files:\n",
    "            if file.endswith(\"WM.png\"):\n",
    "                file_path = os.path.join(root, file)\n",
    "                try:\n",
    "                    os.remove(file_path)\n",
    "                    print(f\"Deleted: {file_path}\")\n",
    "                except OSError as e:\n",
    "                    print(f\"Error deleting {file_path}: {e}\")\n",
    "\n",
    "# Example usage\n",
    "directory = r'/Users/Matt/Pictures/MidJourney/Digital Products/Brushed by the Breeze/Images/revamp'\n",
    "delete_watermarked_images(directory)\n"
   ]
  }
 ],
 "metadata": {
  "language_info": {
   "name": "python"
  }
 },
 "nbformat": 4,
 "nbformat_minor": 2
}
