{
 "cells": [
  {
   "cell_type": "code",
   "execution_count": 1,
   "metadata": {},
   "outputs": [
    {
     "name": "stdout",
     "output_type": "stream",
     "text": [
      "hello\n"
     ]
    }
   ],
   "source": [
    "print('hello')"
   ]
  },
  {
   "cell_type": "markdown",
   "metadata": {},
   "source": [
    "- create csv file to load and preprocess data\n",
    "- train a simple model\n",
    "- integrate the model into the script and devise better 'after' plan for saving the new image produced from the app"
   ]
  },
  {
   "cell_type": "markdown",
   "metadata": {},
   "source": [
    "****ORGANIZE DIRECTORY BETTER *****"
   ]
  },
  {
   "cell_type": "markdown",
   "metadata": {},
   "source": [
    "create csv"
   ]
  },
  {
   "cell_type": "code",
   "execution_count": 1,
   "metadata": {},
   "outputs": [
    {
     "name": "stdout",
     "output_type": "stream",
     "text": [
      "CSV file 'annotations.csv' created successfully.\n"
     ]
    }
   ],
   "source": [
    "import csv\n",
    "\n",
    "# Define the data\n",
    "mockup_specs = {\n",
    "    \"bedroom\": (263, 109, 488, 346),\n",
    "    \"bathroom\": (362, 275, 358, 260),\n",
    "    \"hallway\": (301, 168, 378, 270),\n",
    "    \"kitchen\": (271, 62, 460, 327),\n",
    "    \"livingroom\": (286, 97, 525, 362),\n",
    "    \"office\": (289, 85, 576, 360),\n",
    "}\n",
    "\n",
    "# Example images for each mockup type\n",
    "image_names = {\n",
    "    \"bedroom\": \"bedroom_image.png\",\n",
    "    \"bathroom\": \"bathroom_image.png\",\n",
    "    \"hallway\": \"hallway_image.png\",\n",
    "    \"kitchen\": \"kitchen_image.png\",\n",
    "    \"livingroom\": \"livingroom_image.png\",\n",
    "    \"office\": \"office_image.png\",\n",
    "}\n",
    "\n",
    "# Create the data entries\n",
    "data = []\n",
    "for mockup, specs in mockup_specs.items():\n",
    "    image_name = image_names[mockup]\n",
    "    canvas_x, canvas_y, canvas_width, canvas_height = specs\n",
    "    data.append({\n",
    "        \"image_name\": image_name,\n",
    "        \"canvas_x\": canvas_x,\n",
    "        \"canvas_y\": canvas_y,\n",
    "        \"canvas_width\": canvas_width,\n",
    "        \"canvas_height\": canvas_height\n",
    "    })\n",
    "\n",
    "# Specify the CSV file path\n",
    "csv_file_path = \"firstannotations.csv\"\n",
    "\n",
    "# Write data to CSV\n",
    "with open(csv_file_path, mode='w', newline='') as file:\n",
    "    writer = csv.DictWriter(file, fieldnames=[\"image_name\", \"canvas_x\", \"canvas_y\", \"canvas_width\", \"canvas_height\"])\n",
    "    writer.writeheader()\n",
    "    for row in data:\n",
    "        writer.writerow(row)\n",
    "\n",
    "print(f\"CSV file '{csv_file_path}' created successfully.\")\n"
   ]
  },
  {
   "cell_type": "code",
   "execution_count": null,
   "metadata": {},
   "outputs": [],
   "source": []
  }
 ],
 "metadata": {
  "kernelspec": {
   "display_name": "Python 3",
   "language": "python",
   "name": "python3"
  },
  "language_info": {
   "codemirror_mode": {
    "name": "ipython",
    "version": 3
   },
   "file_extension": ".py",
   "mimetype": "text/x-python",
   "name": "python",
   "nbconvert_exporter": "python",
   "pygments_lexer": "ipython3",
   "version": "3.12.3"
  }
 },
 "nbformat": 4,
 "nbformat_minor": 2
}
