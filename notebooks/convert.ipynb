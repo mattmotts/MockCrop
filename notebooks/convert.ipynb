{
 "cells": [
  {
   "cell_type": "markdown",
   "metadata": {},
   "source": [
    "## Convert .ndjson to Pandas\n",
    "Here we will take the .ndjson file saved from LabelBox and convert it to a more friendly looking, Pandas Dataframe"
   ]
  },
  {
   "cell_type": "code",
   "execution_count": 1,
   "metadata": {},
   "outputs": [
    {
     "name": "stdout",
     "output_type": "stream",
     "text": [
      "Collecting pandas\n",
      "  Using cached pandas-2.0.3-cp38-cp38-macosx_11_0_arm64.whl.metadata (18 kB)\n",
      "Collecting ndjson\n",
      "  Downloading ndjson-0.3.1-py2.py3-none-any.whl.metadata (3.2 kB)\n",
      "Requirement already satisfied: python-dateutil>=2.8.2 in /Users/matt/Documents/Coding/Midjourney/CanvaCrop/.venv3.8/lib/python3.8/site-packages (from pandas) (2.9.0.post0)\n",
      "Collecting pytz>=2020.1 (from pandas)\n",
      "  Using cached pytz-2024.1-py2.py3-none-any.whl.metadata (22 kB)\n",
      "Collecting tzdata>=2022.1 (from pandas)\n",
      "  Using cached tzdata-2024.1-py2.py3-none-any.whl.metadata (1.4 kB)\n",
      "Requirement already satisfied: numpy>=1.20.3 in /Users/matt/Documents/Coding/Midjourney/CanvaCrop/.venv3.8/lib/python3.8/site-packages (from pandas) (1.24.4)\n",
      "Requirement already satisfied: six>=1.5 in /Users/matt/Documents/Coding/Midjourney/CanvaCrop/.venv3.8/lib/python3.8/site-packages (from python-dateutil>=2.8.2->pandas) (1.16.0)\n",
      "Downloading pandas-2.0.3-cp38-cp38-macosx_11_0_arm64.whl (10.7 MB)\n",
      "\u001b[2K   \u001b[90m━━━━━━━━━━━━━━━━━━━━━━━━━━━━━━━━━━━━━━━━\u001b[0m \u001b[32m10.7/10.7 MB\u001b[0m \u001b[31m1.2 MB/s\u001b[0m eta \u001b[36m0:00:00\u001b[0m00:01\u001b[0m00:01\u001b[0m\n",
      "\u001b[?25hDownloading ndjson-0.3.1-py2.py3-none-any.whl (5.3 kB)\n",
      "Using cached pytz-2024.1-py2.py3-none-any.whl (505 kB)\n",
      "Using cached tzdata-2024.1-py2.py3-none-any.whl (345 kB)\n",
      "Installing collected packages: pytz, ndjson, tzdata, pandas\n",
      "Successfully installed ndjson-0.3.1 pandas-2.0.3 pytz-2024.1 tzdata-2024.1\n",
      "\n",
      "\u001b[1m[\u001b[0m\u001b[34;49mnotice\u001b[0m\u001b[1;39;49m]\u001b[0m\u001b[39;49m A new release of pip is available: \u001b[0m\u001b[31;49m24.0\u001b[0m\u001b[39;49m -> \u001b[0m\u001b[32;49m24.1.1\u001b[0m\n",
      "\u001b[1m[\u001b[0m\u001b[34;49mnotice\u001b[0m\u001b[1;39;49m]\u001b[0m\u001b[39;49m To update, run: \u001b[0m\u001b[32;49mpip install --upgrade pip\u001b[0m\n"
     ]
    }
   ],
   "source": [
    "!pip install pandas ndjson"
   ]
  },
  {
   "cell_type": "code",
   "execution_count": 2,
   "metadata": {},
   "outputs": [
    {
     "name": "stdout",
     "output_type": "stream",
     "text": [
      "                 image_id                                          image_url  \\\n",
      "0     bathroom_mockup.png  https://storage.labelbox.com/clxkxmd5l0unt07zt...   \n",
      "1      bedroom_mockup.png  https://storage.labelbox.com/clxkxmd5l0unt07zt...   \n",
      "2      hallway_mockup.png  https://storage.labelbox.com/clxkxmd5l0unt07zt...   \n",
      "3      kitchen_mockup.png  https://storage.labelbox.com/clxkxmd5l0unt07zt...   \n",
      "4   livingroom_mockup.png  https://storage.labelbox.com/clxkxmd5l0unt07zt...   \n",
      "5       office_mockup.png  https://storage.labelbox.com/clxkxmd5l0unt07zt...   \n",
      "6              test_1.png  https://storage.labelbox.com/clxkxmd5l0unt07zt...   \n",
      "7              test_2.png  https://storage.labelbox.com/clxkxmd5l0unt07zt...   \n",
      "8              test_3.png  https://storage.labelbox.com/clxkxmd5l0unt07zt...   \n",
      "9              test_4.png  https://storage.labelbox.com/clxkxmd5l0unt07zt...   \n",
      "10             test_5.png  https://storage.labelbox.com/clxkxmd5l0unt07zt...   \n",
      "11             test_6.png  https://storage.labelbox.com/clxkxmd5l0unt07zt...   \n",
      "12             test_7.png  https://storage.labelbox.com/clxkxmd5l0unt07zt...   \n",
      "13             test_8.png  https://storage.labelbox.com/clxkxmd5l0unt07zt...   \n",
      "\n",
      "          label    top   left  height  width  \n",
      "0   Blank Frame  275.0  363.0   260.0  357.0  \n",
      "1   Blank Frame  109.0  264.0   346.0  487.0  \n",
      "2   Blank Frame  134.0  268.0   331.0  446.0  \n",
      "3   Blank Frame   62.0  272.0   327.0  460.0  \n",
      "4   Blank Frame   96.0  285.0   365.0  525.0  \n",
      "5   Blank Frame   88.0  289.0   356.0  577.0  \n",
      "6   Blank Frame  316.0  245.0   380.0  570.0  \n",
      "7   Blank Frame  263.0  332.0   393.0  545.0  \n",
      "8   Blank Frame  247.0  233.0   361.0  566.0  \n",
      "9   Blank Frame  318.0  244.0   384.0  563.0  \n",
      "10  Blank Frame  311.0  241.0   386.0  573.0  \n",
      "11  Blank Frame  315.0  251.0   376.0  574.0  \n",
      "12  Blank Frame  321.0  256.0   354.0  496.0  \n",
      "13  Blank Frame  207.0  255.0   380.0  503.0  \n"
     ]
    }
   ],
   "source": [
    "import pandas as pd\n",
    "import ndjson\n",
    "\n",
    "# Load .ndjson data\n",
    "with open('data/testing_detection.ndjson') as f:\n",
    "    data = ndjson.load(f)\n",
    "\n",
    "# Convert to DataFrame\n",
    "df = pd.json_normalize(data)\n",
    "\n",
    "# Extract relevant columns\n",
    "annotations = []\n",
    "for item in data:\n",
    "    for project_id, project_data in item['projects'].items():\n",
    "        for label in project_data['labels']:\n",
    "            for obj in label['annotations']['objects']:\n",
    "                annotations.append({\n",
    "                    'image_id': item['data_row']['external_id'],\n",
    "                    'image_url': item['data_row']['row_data'],\n",
    "                    'label': obj['name'],\n",
    "                    'top': obj['bounding_box']['top'],\n",
    "                    'left': obj['bounding_box']['left'],\n",
    "                    'height': obj['bounding_box']['height'],\n",
    "                    'width': obj['bounding_box']['width']\n",
    "                })\n",
    "\n",
    "annotations_df = pd.DataFrame(annotations)\n",
    "\n",
    "# Save the DataFrame to a CSV file if needed\n",
    "annotations_df.to_csv('data/testing_annotations.csv', index=False)\n",
    "\n",
    "print(annotations_df)\n"
   ]
  },
  {
   "cell_type": "code",
   "execution_count": null,
   "metadata": {},
   "outputs": [],
   "source": []
  }
 ],
 "metadata": {
  "kernelspec": {
   "display_name": "Python 3",
   "language": "python",
   "name": "python3"
  },
  "language_info": {
   "codemirror_mode": {
    "name": "ipython",
    "version": 3
   },
   "file_extension": ".py",
   "mimetype": "text/x-python",
   "name": "python",
   "nbconvert_exporter": "python",
   "pygments_lexer": "ipython3",
   "version": "3.8.13"
  }
 },
 "nbformat": 4,
 "nbformat_minor": 2
}
