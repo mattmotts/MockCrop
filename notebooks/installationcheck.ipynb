{
 "cells": [
  {
   "cell_type": "code",
   "execution_count": 5,
   "metadata": {},
   "outputs": [
    {
     "name": "stdout",
     "output_type": "stream",
     "text": [
      "Torch version: 2.3.1\n",
      "CUDA available: False\n"
     ]
    }
   ],
   "source": [
    "import torch\n",
    "\n",
    "# Check the version\n",
    "print(\"Torch version:\", torch.__version__)\n",
    "\n",
    "# Check if GPU is available\n",
    "print(\"CUDA available:\", torch.cuda.is_available())\n"
   ]
  },
  {
   "cell_type": "code",
   "execution_count": 6,
   "metadata": {},
   "outputs": [
    {
     "name": "stdout",
     "output_type": "stream",
     "text": [
      "Detectron2 version: 0.6\n",
      "Detectron2 config successfully imported\n"
     ]
    }
   ],
   "source": [
    "import detectron2\n",
    "\n",
    "# Check the version\n",
    "print(\"Detectron2 version:\", detectron2.__version__)\n",
    "\n",
    "# Check if the default config file can be accessed\n",
    "from detectron2.config import get_cfg\n",
    "cfg = get_cfg()\n",
    "print(\"Detectron2 config successfully imported\")\n"
   ]
  }
 ],
 "metadata": {
  "kernelspec": {
   "display_name": ".venv3.8",
   "language": "python",
   "name": "python3"
  },
  "language_info": {
   "codemirror_mode": {
    "name": "ipython",
    "version": 3
   },
   "file_extension": ".py",
   "mimetype": "text/x-python",
   "name": "python",
   "nbconvert_exporter": "python",
   "pygments_lexer": "ipython3",
   "version": "3.8.13"
  }
 },
 "nbformat": 4,
 "nbformat_minor": 2
}
