{
 "cells": [
  {
   "cell_type": "markdown",
   "metadata": {},
   "source": [
    "New Application idea if creating a model does not work\n",
    "\n",
    "- [ ]  if creating a model does not work …\n",
    "    - [ ]  create an app with the mockups already built in\n",
    "    - [ ]  use labelbox to label the mockups, get the csv data file with the coordinates\n",
    "    - [ ]  feature this data sheet within the application\n",
    "    - [ ]  the user selects which mockup they want to use, the application recognizes this, and then pulls the data from the csv data file\n",
    "    - [ ]  and then places the new image as an overlay on top of this area\n",
    "    - [ ]  the image is now saved\n",
    "    - [ ]  continuously update the csv file with new mockups"
   ]
  }
 ],
 "metadata": {
  "kernelspec": {
   "display_name": "venv",
   "language": "python",
   "name": "python3"
  },
  "language_info": {
   "codemirror_mode": {
    "name": "ipython",
    "version": 3
   },
   "file_extension": ".py",
   "mimetype": "text/x-python",
   "name": "python",
   "nbconvert_exporter": "python",
   "pygments_lexer": "ipython3",
   "version": "3.12.4"
  }
 },
 "nbformat": 4,
 "nbformat_minor": 2
}
