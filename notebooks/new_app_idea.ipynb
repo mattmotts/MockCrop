{
 "cells": [
  {
   "cell_type": "markdown",
   "metadata": {},
   "source": [
    "New Application idea if creating a model does not work\n",
    "\n",
    "- [ ]  if creating a model does not work …\n",
    "    - [ ]  create an app with the mockups already built in\n",
    "    - [ ]  use labelbox to label the mockups, get the csv data file with the coordinates\n",
    "    - [ ]  feature this data sheet within the application\n",
    "    - [ ]  the user selects which mockup they want to use, the application recognizes this, and then pulls the data from the csv data file\n",
    "    - [ ]  and then places the new image as an overlay on top of this area\n",
    "    - [ ]  the image is now saved\n",
    "    - [ ]  continuously update the csv file with new mockups"
   ]
  },
  {
   "cell_type": "code",
   "execution_count": null,
   "metadata": {},
   "outputs": [],
   "source": []
  }
 ],
 "metadata": {
  "language_info": {
   "name": "python"
  }
 },
 "nbformat": 4,
 "nbformat_minor": 2
}
